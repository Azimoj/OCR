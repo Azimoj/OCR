{
  "nbformat": 4,
  "nbformat_minor": 0,
  "metadata": {
    "colab": {
      "provenance": [],
      "authorship_tag": "ABX9TyP9AV2Q7H4NuHcmbIJRINou",
      "include_colab_link": true
    },
    "kernelspec": {
      "name": "python3",
      "display_name": "Python 3"
    },
    "language_info": {
      "name": "python"
    }
  },
  "cells": [
    {
      "cell_type": "markdown",
      "metadata": {
        "id": "view-in-github",
        "colab_type": "text"
      },
      "source": [
        "<a href=\"https://colab.research.google.com/github/Azimoj/OCR/blob/main/image.ipynb\" target=\"_parent\"><img src=\"https://colab.research.google.com/assets/colab-badge.svg\" alt=\"Open In Colab\"/></a>"
      ]
    },
    {
      "cell_type": "markdown",
      "source": [
        "\n",
        "**basic_functions**"
      ],
      "metadata": {
        "id": "grMsxPXLx6c5"
      }
    },
    {
      "cell_type": "code",
      "execution_count": null,
      "metadata": {
        "id": "bjUN7PHbxuMQ"
      },
      "outputs": [],
      "source": [
        "#pylint:disable=no-member\n",
        "\n",
        "import cv2 as cv\n",
        "\n",
        "# Read in an image\n",
        "img = cv.imread('../Resources/Photos/park.jpg')\n",
        "cv.imshow('Park', img)\n",
        "\n",
        "# Converting to grayscale\n",
        "gray = cv.cvtColor(img, cv.COLOR_BGR2GRAY)\n",
        "cv.imshow('Gray', gray)\n",
        "\n",
        "# Blur\n",
        "blur = cv.GaussianBlur(img, (7,7), cv.BORDER_DEFAULT)\n",
        "cv.imshow('Blur', blur)\n",
        "\n",
        "# Edge Cascade\n",
        "canny = cv.Canny(blur, 125, 175)\n",
        "cv.imshow('Canny Edges', canny)\n",
        "\n",
        "# Dilating the image\n",
        "dilated = cv.dilate(canny, (7,7), iterations=3)\n",
        "cv.imshow('Dilated', dilated)\n",
        "\n",
        "# Eroding\n",
        "eroded = cv.erode(dilated, (7,7), iterations=3)\n",
        "cv.imshow('Eroded', eroded)\n",
        "\n",
        "# Resize\n",
        "resized = cv.resize(img, (500,500), interpolation=cv.INTER_CUBIC)\n",
        "cv.imshow('Resized', resized)\n",
        "\n",
        "# Cropping\n",
        "cropped = img[50:200, 200:400]\n",
        "cv.imshow('Cropped', cropped)"
      ]
    },
    {
      "cell_type": "markdown",
      "source": [
        "**contours**"
      ],
      "metadata": {
        "id": "2EQFVHMfx_Tw"
      }
    },
    {
      "cell_type": "code",
      "source": [
        "#pylint:disable=no-member\n",
        "\n",
        "import cv2 as cv\n",
        "import numpy as np\n",
        "\n",
        "img = cv.imread('../Resources/Photos/cats.jpg')\n",
        "cv.imshow('Cats', img)\n",
        "\n",
        "blank = np.zeros(img.shape, dtype='uint8')\n",
        "cv.imshow('Blank', blank)\n",
        "\n",
        "gray = cv.cvtColor(img, cv.COLOR_BGR2GRAY)\n",
        "cv.imshow('Gray', gray)\n",
        "\n",
        "blur = cv.GaussianBlur(gray, (5,5), cv.BORDER_DEFAULT)\n",
        "cv.imshow('Blur', blur)\n",
        "\n",
        "canny = cv.Canny(blur, 125, 175)\n",
        "cv.imshow('Canny Edges', canny)\n",
        "\n",
        "# ret, thresh = cv.threshold(gray, 125, 255, cv.THRESH_BINARY)\n",
        "# cv.imshow('Thresh', thresh)\n",
        "\n",
        "contours, hierarchies = cv.findContours(canny, cv.RETR_LIST, cv.CHAIN_APPROX_SIMPLE)\n",
        "print(f'{len(contours)} contour(s) found!')\n",
        "\n",
        "cv.drawContours(blank, contours, -1, (0,0,255), 1)\n",
        "cv.imshow('Contours Drawn', blank)\n",
        "\n",
        "cv.waitKey(0)"
      ],
      "metadata": {
        "id": "84SNgTeTx_hB"
      },
      "execution_count": null,
      "outputs": []
    },
    {
      "cell_type": "markdown",
      "source": [
        "**draw**"
      ],
      "metadata": {
        "id": "uwOEngmByM0T"
      }
    },
    {
      "cell_type": "code",
      "source": [
        "#pylint:disable=no-member\n",
        "\n",
        "import cv2 as cv\n",
        "import numpy as np\n",
        "\n",
        "blank = np.zeros((500,500,3), dtype='uint8')\n",
        "cv.imshow('Blank', blank)\n",
        "\n",
        "# 1. Paint the image a certain colour\n",
        "blank[200:300, 300:400] = 0,0,255\n",
        "cv.imshow('Green', blank)\n",
        "\n",
        "# 2. Draw a Rectangle\n",
        "cv.rectangle(blank, (0,0), (blank.shape[1]//2, blank.shape[0]//2), (0,255,0), thickness=-1)\n",
        "cv.imshow('Rectangle', blank)\n",
        "\n",
        "# 3. Draw A circle\n",
        "cv.circle(blank, (blank.shape[1]//2, blank.shape[0]//2), 40, (0,0,255), thickness=-1)\n",
        "cv.imshow('Circle', blank)\n",
        "\n",
        "# 4. Draw a line\n",
        "cv.line(blank, (100,250), (300,400), (255,255,255), thickness=3)\n",
        "cv.imshow('Line', blank)\n",
        "\n",
        "# 5. Write text\n",
        "cv.putText(blank, 'Hello, my name is Jason!!!', (0,225), cv.FONT_HERSHEY_TRIPLEX, 1.0, (0,255,0), 2)\n",
        "cv.imshow('Text', blank)\n",
        "\n",
        "cv.waitKey(0)"
      ],
      "metadata": {
        "id": "mMwjCL1IyM-q"
      },
      "execution_count": null,
      "outputs": []
    },
    {
      "cell_type": "markdown",
      "source": [
        "read"
      ],
      "metadata": {
        "id": "c7Xe9e9EyNKe"
      }
    },
    {
      "cell_type": "code",
      "source": [
        "pylint:disable=no-member\n",
        "\n",
        "import cv2 as cv\n",
        "\n",
        "img = cv.imread('../Resources/Photos/cats.jpg')\n",
        "cv.imshow('Cats', img)\n",
        "\n",
        "cv.waitKey(0)\n",
        "\n",
        "# Reading Videos\n",
        "capture = cv.VideoCapture('../Resources/Videos/dog.mp4')\n",
        "\n",
        "while True:\n",
        "    isTrue, frame = capture.read()\n",
        "\n",
        "    # if cv.waitKey(20) & 0xFF==ord('d'):\n",
        "    # This is the preferred way - if `isTrue` is false (the frame could\n",
        "    # not be read, or we're at the end of the video), we immediately\n",
        "    # break from the loop.\n",
        "    if isTrue:\n",
        "        cv.imshow('Video', frame)\n",
        "        if cv.waitKey(20) & 0xFF==ord('d'):\n",
        "            break\n",
        "    else:\n",
        "        break\n",
        "\n",
        "capture.release()\n",
        "cv.destroyAllWindows()"
      ],
      "metadata": {
        "id": "QS44bZbTyfCn"
      },
      "execution_count": null,
      "outputs": []
    },
    {
      "cell_type": "markdown",
      "source": [
        "**thresh**"
      ],
      "metadata": {
        "id": "PxB85hJzyfQl"
      }
    },
    {
      "cell_type": "code",
      "source": [
        "#pylint:disable=no-member\n",
        "\n",
        "import cv2 as cv\n",
        "\n",
        "img = cv.imread('../Resources/Photos/cats.jpg')\n",
        "cv.imshow('Cats', img)\n",
        "\n",
        "gray = cv.cvtColor(img, cv.COLOR_BGR2GRAY)\n",
        "cv.imshow('Gray', gray)\n",
        "\n",
        "# Simple Thresholding\n",
        "threshold, thresh = cv.threshold(gray, 150, 255, cv.THRESH_BINARY )\n",
        "cv.imshow('Simple Thresholded', thresh)\n",
        "\n",
        "threshold, thresh_inv = cv.threshold(gray, 150, 255, cv.THRESH_BINARY_INV )\n",
        "cv.imshow('Simple Thresholded Inverse', thresh_inv)\n",
        "\n",
        "# Adaptive Thresholding\n",
        "adaptive_thresh = cv.adaptiveThreshold(gray, 255, cv.ADAPTIVE_THRESH_GAUSSIAN_C, cv.THRESH_BINARY_INV, 11, 9)\n",
        "cv.imshow('Adaptive Thresholding', adaptive_thresh)\n",
        "\n",
        "cv.waitKey(0)"
      ],
      "metadata": {
        "id": "OEVom8NjypAS"
      },
      "execution_count": null,
      "outputs": []
    },
    {
      "cell_type": "markdown",
      "source": [
        "**transformations**"
      ],
      "metadata": {
        "id": "ys5tcvgCypW4"
      }
    },
    {
      "cell_type": "code",
      "source": [
        "#pylint:disable=no-member\n",
        "\n",
        "import cv2 as cv\n",
        "import numpy as np\n",
        "\n",
        "img = cv.imread('../Resources/Photos/park.jpg')\n",
        "cv.imshow('Park', img)\n",
        "\n",
        "# Translation\n",
        "def translate(img, x, y):\n",
        "    transMat = np.float32([[1,0,x],[0,1,y]])\n",
        "    dimensions = (img.shape[1], img.shape[0])\n",
        "    return cv.warpAffine(img, transMat, dimensions)\n",
        "\n",
        "# -x --> Left\n",
        "# -y --> Up\n",
        "# x --> Right\n",
        "# y --> Down\n",
        "\n",
        "translated = translate(img, -100, 100)\n",
        "cv.imshow('Translated', translated)\n",
        "\n",
        "# Rotation\n",
        "def rotate(img, angle, rotPoint=None):\n",
        "    (height,width) = img.shape[:2]\n",
        "\n",
        "    if rotPoint is None:\n",
        "        rotPoint = (width//2,height//2)\n",
        "\n",
        "    rotMat = cv.getRotationMatrix2D(rotPoint, angle, 1.0)\n",
        "    dimensions = (width,height)\n",
        "\n",
        "    return cv.warpAffine(img, rotMat, dimensions)\n",
        "\n",
        "rotated = rotate(img, -45)\n",
        "cv.imshow('Rotated', rotated)\n",
        "\n",
        "rotated_rotated = rotate(img, -90)\n",
        "cv.imshow('Rotated Rotated', rotated_rotated)\n",
        "\n",
        "# Resizing\n",
        "resized = cv.resize(img, (500,500), interpolation=cv.INTER_CUBIC)\n",
        "cv.imshow('Resized', resized)\n",
        "\n",
        "# Flipping\n",
        "flip = cv.flip(img, -1)\n",
        "cv.imshow('Flip', flip)\n",
        "\n",
        "# Cropping\n",
        "cropped = img[200:400, 300:400]\n",
        "cv.imshow('Cropped', cropped)\n",
        "\n",
        "\n",
        "cv.waitKey(0)"
      ],
      "metadata": {
        "id": "NztEZ_p0ypfO"
      },
      "execution_count": null,
      "outputs": []
    },
    {
      "cell_type": "markdown",
      "source": [
        "https://github.com/jasmcaus/opencv-course/blob/master/Section%20%232%20-%20Advanced/bitwise.py"
      ],
      "metadata": {
        "id": "4wgMgLAuy18j"
      }
    },
    {
      "cell_type": "code",
      "source": [],
      "metadata": {
        "id": "KnfXzP95y2FN"
      },
      "execution_count": null,
      "outputs": []
    }
  ]
}
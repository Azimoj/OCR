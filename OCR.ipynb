{
  "nbformat": 4,
  "nbformat_minor": 0,
  "metadata": {
    "colab": {
      "provenance": [],
      "authorship_tag": "ABX9TyMqvTJQGmK+uVDKaRX27crm",
      "include_colab_link": true
    },
    "kernelspec": {
      "name": "python3",
      "display_name": "Python 3"
    },
    "language_info": {
      "name": "python"
    }
  },
  "cells": [
    {
      "cell_type": "markdown",
      "metadata": {
        "id": "view-in-github",
        "colab_type": "text"
      },
      "source": [
        "<a href=\"https://colab.research.google.com/github/Azimoj/OCR/blob/main/OCR.ipynb\" target=\"_parent\"><img src=\"https://colab.research.google.com/assets/colab-badge.svg\" alt=\"Open In Colab\"/></a>"
      ]
    },
    {
      "cell_type": "markdown",
      "source": [
        "**Preprocessing Images for OCR**\n",
        "\n",
        "\n",
        "*  Inverted Images\n",
        "*   Rescaling\n",
        "*   Binarization\n",
        "*   Noise Removal\n",
        "*   Dilation and Erosion\n",
        "*   Rotation / Deskewing\n",
        "*   Removing Borders\n",
        "*   Missing Borders\n",
        "*   Transparency / Alpha Channel\n"
      ],
      "metadata": {
        "id": "mCb76iLxSPrO"
      }
    },
    {
      "cell_type": "markdown",
      "source": [
        "#### <font color='orange'>**00: Opening an Image:**</font>"
      ],
      "metadata": {
        "id": "yxWGkSJ8TiS6"
      }
    },
    {
      "cell_type": "code",
      "source": [
        "import cv2\n",
        "from matplotlib import pyplot as plt\n",
        "image_file = \"data/page_01.jpg\"\n",
        "img = cv2.imread(image_file)\n"
      ],
      "metadata": {
        "id": "h756Rs4nTPOI"
      },
      "execution_count": null,
      "outputs": []
    },
    {
      "cell_type": "code",
      "execution_count": null,
      "metadata": {
        "id": "cRMD7Y6KSGWq"
      },
      "outputs": [],
      "source": [
        "#https://stackoverflow.com/questions/28816046/\n",
        "#displaying-different-images-with-actual-size-in-matplotlib-subplot\n",
        "def display(im_path):\n",
        "    dpi = 80\n",
        "    im_data = plt.imread(im_path)\n",
        "\n",
        "    height, width  = im_data.shape[:2]\n",
        "\n",
        "    # What size does the figure need to be in inches to fit the image?\n",
        "    figsize = width / float(dpi), height / float(dpi)\n",
        "\n",
        "    # Create a figure of the right size with one axes that takes up the full figure\n",
        "    fig = plt.figure(figsize=figsize)\n",
        "    ax = fig.add_axes([0, 0, 1, 1])\n",
        "\n",
        "    # Hide spines, ticks, etc.\n",
        "    ax.axis('off')\n",
        "\n",
        "    # Display the image.\n",
        "    ax.imshow(im_data, cmap='gray')\n",
        "\n",
        "    plt.show()"
      ]
    },
    {
      "cell_type": "code",
      "source": [
        "\n",
        "display(image_file)"
      ],
      "metadata": {
        "id": "sqq51ZvNTqc_"
      },
      "execution_count": null,
      "outputs": []
    },
    {
      "cell_type": "code",
      "source": [],
      "metadata": {
        "id": "KkZ7hJxrTqfy"
      },
      "execution_count": null,
      "outputs": []
    },
    {
      "cell_type": "code",
      "source": [],
      "metadata": {
        "id": "WBU25V1JTqih"
      },
      "execution_count": null,
      "outputs": []
    },
    {
      "cell_type": "code",
      "source": [],
      "metadata": {
        "id": "iR9gyGhxTqoK"
      },
      "execution_count": null,
      "outputs": []
    }
  ]
}